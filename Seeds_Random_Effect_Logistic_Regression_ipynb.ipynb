{
  "cells": [
    {
      "cell_type": "code",
      "execution_count": 56,
      "metadata": {
        "id": "cPGEpy_LORgo"
      },
      "outputs": [],
      "source": [
        "import numpy as np\n",
        "import matplotlib.pyplot as plt\n",
        "import time"
      ]
    },
    {
      "cell_type": "code",
      "execution_count": 57,
      "metadata": {
        "id": "zRVuKVuGQFhP"
      },
      "outputs": [],
      "source": [
        "#Données\n",
        "r =[10, 23, 23, 26, 17, 5, 53, 55, 32, 46, 10, 8, 10, 8, 23, 0, 3, 22, 15, 32, 3]\n",
        "n = [39, 62, 81, 51, 39, 6, 74, 72, 51, 79, 13, 16, 30, 28, 45, 4, 12, 41, 30, 51, 7]\n",
        "x1 = [0, 0, 0, 0, 0, 0, 0, 0, 0, 0, 0, 1, 1, 1, 1, 1, 1, 1, 1, 1, 1]\n",
        "x2 = [0, 0, 0, 0, 0, 1, 1, 1, 1, 1, 1, 0, 0, 0, 0, 0, 1, 1, 1, 1, 1]"
      ]
    },
    {
      "cell_type": "code",
      "execution_count": 58,
      "metadata": {
        "id": "eQkJTdPvbSlh"
      },
      "outputs": [],
      "source": [
        "#Fonctions utiles:\n",
        "def sigm(x): #Fonction sigmoïde\n",
        "    return 1/(1+np.exp(-x))\n",
        "def p(alpha0,alpha1,x1,alpha2,x2,alpha12,b):\n",
        "    return sigm(alpha0+alpha1*x1+alpha2*x2+alpha12*x1*x2+b)\n",
        "\n",
        "def R(alpha0,alpha1,alpha2,alpha12,b): \n",
        "    a=0 #vraisemblance r\n",
        "    for i in range(K):\n",
        "        a += r[i]*np.log(p(alpha0,alpha1,x1[i],alpha2,x2[i],alpha12,b[i]))+(n[i]-r[i])*np.log(1-p(alpha0,alpha1,x1[i],alpha2,x2[i],alpha12,b[i]))\n",
        "    return a\n",
        "    \n",
        "N=10000 #Nombre d'itérations de l'échantilloneur\n",
        "K=21 #Nombre de \"strates\"\n",
        "\n",
        "#Echantilloneur:\n",
        "def GibbsSampler(N,std_dev,alpha0,alpha1,alpha2,alpha12,sigma,b):\n",
        "    X=np.zeros((N+1,5)) # alpha0,alpha1,alpha2,alpha12,sigma\n",
        "    Xb=np.zeros((N+1,K))\n",
        "    #Initialisation\n",
        "    X[0]=[alpha0,alpha1,alpha2,alpha12,sigma]\n",
        "    Xb[0]=b\n",
        "\n",
        "    for j in range(N):\n",
        "\n",
        "        #Mise à jour alpha0\n",
        "        X[j+1]=X[j]\n",
        "        Xp=X[j+1][0]+std_dev[0]*np.random.normal() #proposition alpha\n",
        "        top0=-Xp**2/2000000 #loi a priori\n",
        "        top1=R(Xp,X[j+1][1],X[j+1][2],X[j+1][3],Xb[j+1])\n",
        "        top=top0+top1\n",
        "        bottom0=-X[j+1][0]**2/2000000 #loi a priori\n",
        "        bottom1=R(Xp,X[j+1][1],X[j+1][2],X[j+1][3],Xb[j+1]) #vraisemblance\n",
        "        bottom=bottom0+bottom1\n",
        "        prob=np.exp(top-bottom)\n",
        "        if np.random.uniform()<prob:\n",
        "            X[j+1][0]=Xp\n",
        "        \n",
        "        #Mise à jour alpha1\n",
        "        X[j+1]=X[j]\n",
        "        Xp=X[j+1][1]+std_dev[1]*np.random.normal() #proposition alpha\n",
        "        top0=-Xp**2/2000000 #loi a priori\n",
        "        top1=R(X[j+1][0],Xp,X[j+1][2],X[j+1][3],Xb[j+1])\n",
        "        top=top0+top1\n",
        "        bottom0=-X[j+1][1]**2/2000000 #loi a priori\n",
        "        bottom1=R(X[j+1][0],Xp,X[j+1][2],X[j+1][3],Xb[j+1]) #vraisemblance\n",
        "        bottom=bottom0+bottom1\n",
        "        prob=np.exp(top-bottom)\n",
        "        if np.random.uniform()<prob:\n",
        "            X[j+1][1]=Xp\n",
        "\n",
        "        #Mise à jour alpha2\n",
        "        X[j+1]=X[j]\n",
        "        Xp=X[j+1][2]+std_dev[2]*np.random.normal() #proposition alpha\n",
        "        top0=-Xp**2/2000000 #loi a priori\n",
        "        top1=R(X[j+1][0],X[j+1][1],Xp,X[j+1][3],Xb[j+1])\n",
        "        top=top0+top1\n",
        "        bottom0=-X[j+1][2]**2/2000000 #loi a priori\n",
        "        bottom1=R(X[j+1][0],X[j+1][1],Xp,X[j+1][3],Xb[j+1]) #vraisemblance\n",
        "        bottom=bottom0+bottom1\n",
        "        prob=np.exp(top-bottom)\n",
        "        if np.random.uniform()<prob:\n",
        "            X[j+1][2]=Xp\n",
        "\n",
        "        #Mise à jour alpha12\n",
        "        X[j+1]=X[j]\n",
        "        Xp=X[j+1][3]+std_dev[3]*np.random.normal() #proposition alpha\n",
        "        top0=-Xp**2/2000000 #loi a priori\n",
        "        top1=R(X[j+1][0],X[j+1][1],X[j+1][2],Xp,Xb[j+1])\n",
        "        top=top0+top1\n",
        "        bottom0=-X[j+1][3]**2/2000000 #loi a priori\n",
        "        bottom1=R(X[j+1][0],X[j+1][1],X[j+1][2],Xp,Xb[j+1]) #vraisemblance\n",
        "        bottom=bottom0+bottom1\n",
        "        prob=np.exp(top-bottom)\n",
        "        if np.random.uniform()<prob:\n",
        "            X[j+1][3]=Xp\n",
        "        \n",
        "        #Mise à jour sigma\n",
        "        Xp=X[j+1][4]*np.random.lognormal() #proposition sigma: marche aléatoire lognormale\n",
        "        top=-2.002*np.log(Xp)-0.001/Xp**2-np.sum(np.array(b)**2)/(2*Xp**2)\n",
        "        bottom=-2.002*np.log(X[j+1][4])-0.001/X[j+1][4]**2-np.sum(np.array(b)**2)/(2*X[j+1][4]**2)\n",
        "        prob=np.exp(top-bottom)*Xp/X[j+1][4]\n",
        "        if np.random.uniform()<prob:\n",
        "            X[j+1][4]=Xp\n",
        "        \n",
        "        #p(alpha0,alpha1,x1,alpha2,x2,alpha12,b)\n",
        "        #Mise à jour b\n",
        "        Xb[j+1]=Xb[j]\n",
        "        for i in range(K):\n",
        "            Xp=Xb[j+1][i]+std_dev[4]*np.random.normal() #propoisition b\n",
        "            top0=-Xp**2/2000 #loi a priori b\n",
        "            top1=r[i]*np.log(p(X[j+1][0],X[j+1][1],x1[i],X[j+1][2],x2[i],X[j+1][3],Xp))+(n[i]-r[i])*np.log(1-p(X[j+1][0],X[j+1][1],x1[i],X[j+1][2],x2[i],X[j+1][3],Xp))\n",
        "            top=top0+top1\n",
        "            bottom0=-Xb[j+1][i]**2/2000 #loi a priori\n",
        "            bottom1=r[i]*np.log(p(X[j+1][0],X[j+1][1],x1[i],X[j+1][2],x2[i],X[j+1][3],Xb[j+1][i]))+(n[i]-r[i])*np.log(1-p(X[j+1][0],X[j+1][1],x1[i],X[j+1][2],x2[i],X[j+1][3],Xb[j+1][i]))\n",
        "            bottom=bottom0+bottom1\n",
        "            prob=np.exp(top-bottom)\n",
        "            if np.random.uniform()<prob:\n",
        "                Xb[j+1][i]=Xp\n",
        "\n",
        "    return X,Xb"
      ]
    },
    {
      "cell_type": "code",
      "execution_count": 59,
      "metadata": {
        "colab": {
          "base_uri": "https://localhost:8080/"
        },
        "id": "_hSvpCaSPJ5y",
        "outputId": "2fb4e04f-4e74-4afb-9acf-4899ffe02629"
      },
      "outputs": [
        {
          "output_type": "stream",
          "name": "stdout",
          "text": [
            "temps d'éxécution pour n=5000: 13.739909887313843 s.\n"
          ]
        }
      ],
      "source": [
        "std_dev=[0.1,0.2,0.15,0.3,0.3] #Variance des propositions (ajustées)\n",
        "\n",
        "#Valeurs initiales (ajustées):\n",
        "alpha0=-1.7\n",
        "alpha1=0\n",
        "alpha2=0\n",
        "alpha12=0\n",
        "b=[0]*K\n",
        "sigma=0.1\n",
        "N=5000\n",
        "t0=time.time()\n",
        "X,Xb=GibbsSampler(N,std_dev,alpha0,alpha1,alpha2,alpha12,sigma,b)\n",
        "print(f\"temps d'éxécution pour n={N}: {time.time()-t0} s.\")"
      ]
    },
    {
      "cell_type": "code",
      "execution_count": 60,
      "metadata": {
        "id": "CurTUyYATTKz"
      },
      "outputs": [],
      "source": [
        "Xb=Xb.transpose()\n",
        "X=np.transpose(X)"
      ]
    },
    {
      "cell_type": "code",
      "execution_count": 64,
      "metadata": {
        "colab": {
          "base_uri": "https://localhost:8080/",
          "height": 281
        },
        "id": "tmt-kbdVTWzH",
        "outputId": "84b30a02-329e-41f2-f569-12c613d2f26d"
      },
      "outputs": [
        {
          "output_type": "display_data",
          "data": {
            "text/plain": [
              "<Figure size 432x288 with 1 Axes>"
            ],
            "image/png": "[encoded data removed]"
          },
          "metadata": {
            "needs_background": "light"
          }
        }
      ],
      "source": [
        "plt.plot(X[4])\n",
        "plt.title(\"Chaîne de alpha\");"
      ]
    }
  ],
  "metadata": {
    "colab": {
      "name": "Seeds: Random Effect Logistic Regression. ipynb",
      "provenance": []
    },
    "kernelspec": {
      "display_name": "Python 3",
      "name": "python3"
    },
    "language_info": {
      "name": "python"
    }
  },
  "nbformat": 4,
  "nbformat_minor": 0
}